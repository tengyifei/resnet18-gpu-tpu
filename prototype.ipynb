{
 "cells": [
  {
   "cell_type": "markdown",
   "id": "0ed78128",
   "metadata": {},
   "source": [
    "### Connect to cluster"
   ]
  },
  {
   "cell_type": "code",
   "execution_count": 10,
   "id": "a2035338",
   "metadata": {},
   "outputs": [
    {
     "name": "stderr",
     "output_type": "stream",
     "text": [
      "2025-04-15 03:27:33,295\tINFO worker.py:1660 -- Connecting to existing Ray cluster at address: 10.128.0.32:6379...\n",
      "2025-04-15 03:27:33,302\tINFO worker.py:1843 -- Connected to Ray cluster. View the dashboard at \u001b[1m\u001b[32m127.0.0.1:8265 \u001b[39m\u001b[22m\n"
     ]
    },
    {
     "data": {
      "application/vnd.jupyter.widget-view+json": {
       "model_id": "a6bf881312414f9582c5747688e66d74",
       "version_major": 2,
       "version_minor": 0
      },
      "text/html": [
       "<div class=\"lm-Widget p-Widget lm-Panel p-Panel jp-Cell-outputWrapper\">\n",
       "    <div style=\"margin-left: 50px;display: flex;flex-direction: row;align-items: center\">\n",
       "        <div class=\"jp-RenderedHTMLCommon\" style=\"display: flex; flex-direction: row;\">\n",
       "  <svg viewBox=\"0 0 567 224\" fill=\"none\" xmlns=\"http://www.w3.org/2000/svg\" style=\"height: 3em;\">\n",
       "    <g clip-path=\"url(#clip0_4338_178347)\">\n",
       "        <path d=\"M341.29 165.561H355.29L330.13 129.051C345.63 123.991 354.21 112.051 354.21 94.2307C354.21 71.3707 338.72 58.1807 311.88 58.1807H271V165.561H283.27V131.661H311.8C314.25 131.661 316.71 131.501 319.01 131.351L341.25 165.561H341.29ZM283.29 119.851V70.0007H311.82C331.3 70.0007 342.34 78.2907 342.34 94.5507C342.34 111.271 331.34 119.861 311.82 119.861L283.29 119.851ZM451.4 138.411L463.4 165.561H476.74L428.74 58.1807H416L367.83 165.561H380.83L392.83 138.411H451.4ZM446.19 126.601H398L422 72.1407L446.24 126.601H446.19ZM526.11 128.741L566.91 58.1807H554.35L519.99 114.181L485.17 58.1807H472.44L514.01 129.181V165.541H526.13V128.741H526.11Z\" fill=\"var(--jp-ui-font-color0)\"/>\n",
       "        <path d=\"M82.35 104.44C84.0187 97.8827 87.8248 92.0678 93.1671 87.9146C98.5094 83.7614 105.083 81.5067 111.85 81.5067C118.617 81.5067 125.191 83.7614 130.533 87.9146C135.875 92.0678 139.681 97.8827 141.35 104.44H163.75C164.476 101.562 165.622 98.8057 167.15 96.2605L127.45 56.5605C121.071 60.3522 113.526 61.6823 106.235 60.3005C98.9443 58.9187 92.4094 54.9203 87.8602 49.0574C83.3109 43.1946 81.0609 35.8714 81.5332 28.4656C82.0056 21.0599 85.1679 14.0819 90.4252 8.8446C95.6824 3.60726 102.672 0.471508 110.08 0.0272655C117.487 -0.416977 124.802 1.86091 130.647 6.4324C136.493 11.0039 140.467 17.5539 141.821 24.8501C143.175 32.1463 141.816 39.6859 138 46.0505L177.69 85.7505C182.31 82.9877 187.58 81.4995 192.962 81.4375C198.345 81.3755 203.648 82.742 208.33 85.3976C213.012 88.0532 216.907 91.9029 219.616 96.5544C222.326 101.206 223.753 106.492 223.753 111.875C223.753 117.258 222.326 122.545 219.616 127.197C216.907 131.848 213.012 135.698 208.33 138.353C203.648 141.009 198.345 142.375 192.962 142.313C187.58 142.251 182.31 140.763 177.69 138L138 177.7C141.808 184.071 143.155 191.614 141.79 198.91C140.424 206.205 136.44 212.75 130.585 217.313C124.731 221.875 117.412 224.141 110.004 223.683C102.596 223.226 95.6103 220.077 90.3621 214.828C85.1139 209.58 81.9647 202.595 81.5072 195.187C81.0497 187.779 83.3154 180.459 87.878 174.605C92.4405 168.751 98.9853 164.766 106.281 163.401C113.576 162.035 121.119 163.383 127.49 167.19L167.19 127.49C165.664 124.941 164.518 122.182 163.79 119.3H141.39C139.721 125.858 135.915 131.673 130.573 135.826C125.231 139.98 118.657 142.234 111.89 142.234C105.123 142.234 98.5494 139.98 93.2071 135.826C87.8648 131.673 84.0587 125.858 82.39 119.3H60C58.1878 126.495 53.8086 132.78 47.6863 136.971C41.5641 141.163 34.1211 142.972 26.7579 142.059C19.3947 141.146 12.6191 137.574 7.70605 132.014C2.79302 126.454 0.0813599 119.29 0.0813599 111.87C0.0813599 104.451 2.79302 97.2871 7.70605 91.7272C12.6191 86.1673 19.3947 82.5947 26.7579 81.6817C34.1211 80.7686 41.5641 82.5781 47.6863 86.7696C53.8086 90.9611 58.1878 97.2456 60 104.44H82.35ZM100.86 204.32C103.407 206.868 106.759 208.453 110.345 208.806C113.93 209.159 117.527 208.258 120.522 206.256C123.517 204.254 125.725 201.276 126.771 197.828C127.816 194.38 127.633 190.677 126.253 187.349C124.874 184.021 122.383 181.274 119.205 179.577C116.027 177.88 112.359 177.337 108.826 178.042C105.293 178.746 102.113 180.654 99.8291 183.44C97.5451 186.226 96.2979 189.718 96.3 193.32C96.2985 195.364 96.7006 197.388 97.4831 199.275C98.2656 201.163 99.4132 202.877 100.86 204.32ZM204.32 122.88C206.868 120.333 208.453 116.981 208.806 113.396C209.159 109.811 208.258 106.214 206.256 103.219C204.254 100.223 201.275 98.0151 197.827 96.97C194.38 95.9249 190.676 96.1077 187.348 97.4873C184.02 98.8669 181.274 101.358 179.577 104.536C177.879 107.714 177.337 111.382 178.041 114.915C178.746 118.448 180.653 121.627 183.439 123.911C186.226 126.195 189.717 127.443 193.32 127.44C195.364 127.443 197.388 127.042 199.275 126.259C201.163 125.476 202.878 124.328 204.32 122.88ZM122.88 19.4205C120.333 16.8729 116.981 15.2876 113.395 14.9347C109.81 14.5817 106.213 15.483 103.218 17.4849C100.223 19.4868 98.0146 22.4654 96.9696 25.9131C95.9245 29.3608 96.1073 33.0642 97.4869 36.3922C98.8665 39.7202 101.358 42.4668 104.535 44.1639C107.713 45.861 111.381 46.4036 114.914 45.6992C118.447 44.9949 121.627 43.0871 123.911 40.301C126.195 37.515 127.442 34.0231 127.44 30.4205C127.44 28.3772 127.038 26.3539 126.255 24.4664C125.473 22.5788 124.326 20.8642 122.88 19.4205ZM19.42 100.86C16.8725 103.408 15.2872 106.76 14.9342 110.345C14.5813 113.93 15.4826 117.527 17.4844 120.522C19.4863 123.518 22.4649 125.726 25.9127 126.771C29.3604 127.816 33.0638 127.633 36.3918 126.254C39.7198 124.874 42.4664 122.383 44.1635 119.205C45.8606 116.027 46.4032 112.359 45.6988 108.826C44.9944 105.293 43.0866 102.114 40.3006 99.8296C37.5145 97.5455 34.0227 96.2983 30.42 96.3005C26.2938 96.3018 22.337 97.9421 19.42 100.86ZM100.86 100.86C98.3125 103.408 96.7272 106.76 96.3742 110.345C96.0213 113.93 96.9226 117.527 98.9244 120.522C100.926 123.518 103.905 125.726 107.353 126.771C110.8 127.816 114.504 127.633 117.832 126.254C121.16 124.874 123.906 122.383 125.604 119.205C127.301 116.027 127.843 112.359 127.139 108.826C126.434 105.293 124.527 102.114 121.741 99.8296C118.955 97.5455 115.463 96.2983 111.86 96.3005C109.817 96.299 107.793 96.701 105.905 97.4835C104.018 98.2661 102.303 99.4136 100.86 100.86Z\" fill=\"#00AEEF\"/>\n",
       "    </g>\n",
       "    <defs>\n",
       "        <clipPath id=\"clip0_4338_178347\">\n",
       "            <rect width=\"566.93\" height=\"223.75\" fill=\"white\"/>\n",
       "        </clipPath>\n",
       "    </defs>\n",
       "  </svg>\n",
       "</div>\n",
       "\n",
       "        <table class=\"jp-RenderedHTMLCommon\" style=\"border-collapse: collapse;color: var(--jp-ui-font-color1);font-size: var(--jp-ui-font-size1);\">\n",
       "    <tr>\n",
       "        <td style=\"text-align: left\"><b>Python version:</b></td>\n",
       "        <td style=\"text-align: left\"><b>3.10.14</b></td>\n",
       "    </tr>\n",
       "    <tr>\n",
       "        <td style=\"text-align: left\"><b>Ray version:</b></td>\n",
       "        <td style=\"text-align: left\"><b>2.44.1</b></td>\n",
       "    </tr>\n",
       "    <tr>\n",
       "    <td style=\"text-align: left\"><b>Dashboard:</b></td>\n",
       "    <td style=\"text-align: left\"><b><a href=\"http://127.0.0.1:8265\" target=\"_blank\">http://127.0.0.1:8265</a></b></td>\n",
       "</tr>\n",
       "\n",
       "</table>\n",
       "\n",
       "    </div>\n",
       "</div>\n"
      ],
      "text/plain": [
       "RayContext(dashboard_url='127.0.0.1:8265', python_version='3.10.14', ray_version='2.44.1', ray_commit='daca7b2b1a950dc7f731e34e74c76ae383794ffe')"
      ]
     },
     "execution_count": 10,
     "metadata": {},
     "output_type": "execute_result"
    },
    {
     "name": "stderr",
     "output_type": "stream",
     "text": [
      "\u001b[36m(run_on_tpu pid=3448310, ip=10.138.0.2)\u001b[0m WARNING:root:libtpu.so and TPU device found. Setting PJRT_DEVICE=TPU.\n"
     ]
    },
    {
     "name": "stdout",
     "output_type": "stream",
     "text": [
      "\u001b[36m(pid=, ip=10.138.0.2)\u001b[0m Log file created at: 2025/04/14 20:28:33\n",
      "\u001b[36m(pid=, ip=10.138.0.2)\u001b[0m Running on machine: t1v-n-8ed780ed-w-0\n",
      "\u001b[36m(pid=, ip=10.138.0.2)\u001b[0m Binary: Built on Jan 24 2025 17:49:30 (1737769770)\n",
      "\u001b[36m(pid=, ip=10.138.0.2)\u001b[0m Binary: Built at cloud-tpus-runtime-release-tool@lmbco37.prod.google.com:/google/src/cloud/buildrabbit-username/buildrabbit-client/g3     \n",
      "\u001b[36m(pid=, ip=10.138.0.2)\u001b[0m Binary: Built for gcc-4.X.Y-crosstool-v18-llvm-grtev4-k8.k8\n",
      "\u001b[36m(pid=, ip=10.138.0.2)\u001b[0m Log line format: [IWEF]mmdd hh:mm:ss.uuuuuu threadid file:line] msg\n",
      "\u001b[36m(pid=, ip=10.138.0.2)\u001b[0m I0414 20:28:33.657100 3448310 b295d63588a.cc:733] Linux version 6.5.0-1013-gcp (buildd@lcy02-amd64-064) (x86_64-linux-gnu-gcc-12 (Ubuntu 12.3.0-1ubuntu1~22.04) 12.3.0, GNU ld (GNU Binutils for Ubuntu) 2.38) #13~22.04.1-Ubuntu SMP Wed Jan 24 23:39:40 UTC 2024\n",
      "\u001b[36m(pid=, ip=10.138.0.2)\u001b[0m I0414 20:28:33.667502 3448310 b295d63588a.cc:815] Process id 3448310\n",
      "\u001b[36m(pid=, ip=10.138.0.2)\u001b[0m I0414 20:28:33.667528 3448310 b295d63588a.cc:820] Current working directory /home/yifeit_google_com/resnet18\n",
      "\u001b[36m(pid=, ip=10.138.0.2)\u001b[0m I0414 20:28:33.667529 3448310 b295d63588a.cc:822] Current timezone is PDT (currently UTC -07:00)\n",
      "\u001b[36m(pid=, ip=10.138.0.2)\u001b[0m I0414 20:28:33.667533 3448310 b295d63588a.cc:826] Built on Jan 24 2025 17:49:30 (1737769770)\n",
      "\u001b[36m(pid=, ip=10.138.0.2)\u001b[0m I0414 20:28:33.667533 3448310 b295d63588a.cc:827]  at cloud-tpus-runtime-release-tool@lmbco37.prod.google.com:/google/src/cloud/buildrabbit-username/buildrabbit-client/g3     \n",
      "\u001b[36m(pid=, ip=10.138.0.2)\u001b[0m I0414 20:28:33.667534 3448310 b295d63588a.cc:828]  as //learning/45eac/tfrc/executor:_libtpu.so.native\n",
      "\u001b[36m(pid=, ip=10.138.0.2)\u001b[0m I0414 20:28:33.667536 3448310 b295d63588a.cc:829]  for gcc-4.X.Y-crosstool-v18-llvm-grtev4-k8.k8\n",
      "\u001b[36m(pid=, ip=10.138.0.2)\u001b[0m I0414 20:28:33.667537 3448310 b295d63588a.cc:832]  from changelist 719471581 with baseline 706826864 in a mint client based on __ar56t/branches/libtpu_lts_release_branch/706826864.1/g3     \n",
      "\u001b[36m(pid=, ip=10.138.0.2)\u001b[0m I0414 20:28:33.667538 3448310 b295d63588a.cc:836] Build label: libtpu_lts_20241216_c_RC02\n",
      "\u001b[36m(pid=, ip=10.138.0.2)\u001b[0m I0414 20:28:33.667539 3448310 b295d63588a.cc:838] Build tool: Bazel, release r4rca-2024.12.08-1 (mainline @703883733)\n",
      "\u001b[36m(pid=, ip=10.138.0.2)\u001b[0m I0414 20:28:33.667540 3448310 b295d63588a.cc:839] Build target: \n",
      "\u001b[36m(pid=, ip=10.138.0.2)\u001b[0m I0414 20:28:33.667541 3448310 b295d63588a.cc:846] Command line arguments:\n",
      "\u001b[36m(pid=, ip=10.138.0.2)\u001b[0m I0414 20:28:33.667542 3448310 b295d63588a.cc:848] argv[0]: './tpu_driver'\n",
      "\u001b[36m(pid=, ip=10.138.0.2)\u001b[0m I0414 20:28:33.667545 3448310 b295d63588a.cc:848] argv[1]: '--minloglevel=0'\n",
      "\u001b[36m(pid=, ip=10.138.0.2)\u001b[0m I0414 20:28:33.667546 3448310 b295d63588a.cc:848] argv[2]: '--stderrthreshold=3'\n",
      "\u001b[36m(pid=, ip=10.138.0.2)\u001b[0m I0414 20:28:33.667547 3448310 b295d63588a.cc:848] argv[3]: '--v=0'\n",
      "\u001b[36m(pid=, ip=10.138.0.2)\u001b[0m I0414 20:28:33.667549 3448310 b295d63588a.cc:848] argv[4]: '--vmodule='\n",
      "\u001b[36m(pid=, ip=10.138.0.2)\u001b[0m I0414 20:28:33.667550 3448310 b295d63588a.cc:848] argv[5]: '--log_dir=/tmp/tpu_logs'\n",
      "\u001b[36m(pid=, ip=10.138.0.2)\u001b[0m I0414 20:28:33.667551 3448310 b295d63588a.cc:848] argv[6]: '--max_log_size=1024'\n",
      "\u001b[36m(pid=, ip=10.138.0.2)\u001b[0m I0414 20:28:33.667552 3448310 b295d63588a.cc:848] argv[7]: '--enforce_kernel_ipv6_support=0'\n",
      "\u001b[36m(pid=, ip=10.138.0.2)\u001b[0m I0414 20:28:33.667554 3448310 b295d63588a.cc:848] argv[8]: '--next_pluggable_device_use_c_api=0'\n",
      "\u001b[36m(pid=, ip=10.138.0.2)\u001b[0m I0414 20:28:33.667555 3448310 b295d63588a.cc:848] argv[9]: '--2a886c8_wrap=false,false,false'\n",
      "\u001b[36m(pid=, ip=10.138.0.2)\u001b[0m I0414 20:28:33.667556 3448310 b295d63588a.cc:848] argv[10]: '--2a886c8_chips_per_host_bounds=1,1,1'\n",
      "\u001b[36m(pid=, ip=10.138.0.2)\u001b[0m I0414 20:28:33.667558 3448310 b295d63588a.cc:848] argv[11]: '--2a886c8_host_bounds=1,1,1'\n",
      "\u001b[36m(pid=, ip=10.138.0.2)\u001b[0m I0414 20:28:33.667559 3448310 b295d63588a.cc:848] argv[12]: '--2a886c8_hal_included_devs=0'\n",
      "\u001b[36m(pid=, ip=10.138.0.2)\u001b[0m I0414 20:28:33.667560 3448310 b295d63588a.cc:848] argv[13]: '--2a886c8_slice_builder_worker_port=8471'\n",
      "\u001b[36m(pid=, ip=10.138.0.2)\u001b[0m I0414 20:28:33.667561 3448310 b295d63588a.cc:848] argv[14]: '--2a886c8_slice_builder_worker_addresses=10.138.0.2:8471'\n",
      "\u001b[36m(pid=, ip=10.138.0.2)\u001b[0m I0414 20:28:33.667563 3448310 b295d63588a.cc:848] argv[15]: '--tpu_slice_builder_dump_chip=true'\n",
      "\u001b[36m(pid=, ip=10.138.0.2)\u001b[0m I0414 20:28:33.667564 3448310 b295d63588a.cc:848] argv[16]: '--tpu_slice_builder_dump_chip_force=false'\n",
      "\u001b[36m(pid=, ip=10.138.0.2)\u001b[0m I0414 20:28:33.667565 3448310 b295d63588a.cc:848] argv[17]: '--tpu_slice_builder_dump_to_localhost=1'\n",
      "\u001b[36m(pid=, ip=10.138.0.2)\u001b[0m I0414 20:28:33.667566 3448310 b295d63588a.cc:848] argv[18]: '--runtime_metric_service_port=8431'\n",
      "\u001b[36m(pid=, ip=10.138.0.2)\u001b[0m I0414 20:28:33.667568 3448310 b295d63588a.cc:848] argv[19]: '--tpu_hbm_report_enable=1'\n",
      "\u001b[36m(pid=, ip=10.138.0.2)\u001b[0m I0414 20:28:33.667569 3448310 b295d63588a.cc:848] argv[20]: '--tpu_hbm_report_frequency=5s'\n",
      "\u001b[36m(pid=, ip=10.138.0.2)\u001b[0m I0414 20:28:33.667570 3448310 b295d63588a.cc:848] argv[21]: '--enable_runtime_uptime_telemetry=true'\n",
      "\u001b[36m(pid=, ip=10.138.0.2)\u001b[0m I0414 20:28:33.667572 3448310 b295d63588a.cc:848] argv[22]: ''\n",
      "\u001b[36m(pid=, ip=10.138.0.2)\u001b[0m I0414 20:28:33.667573 3448310 b295d63588a.cc:848] argv[23]: '--xla_latency_hiding_scheduler_rerun=1'\n",
      "\u001b[36m(pid=, ip=10.138.0.2)\u001b[0m I0414 20:28:33.667574 3448310 b295d63588a.cc:848] argv[24]: '--xla_tpu_prefer_async_allgather_to_allreduce=true'\n",
      "\u001b[36m(pid=, ip=10.138.0.2)\u001b[0m I0414 20:28:33.667575 3448310 b295d63588a.cc:848] argv[25]: '--xla_tpu_enable_flash_attention=false'\n",
      "\u001b[36m(pid=, ip=10.138.0.2)\u001b[0m I0414 20:28:33.667577 3448310 b295d63588a.cc:848] argv[26]: '--xla_enable_async_all_gather=true'\n",
      "\u001b[36m(pid=, ip=10.138.0.2)\u001b[0m I0414 20:28:33.667578 3448310 b295d63588a.cc:848] argv[27]: '--xla_enable_async_collective_permute=true'\n",
      "\u001b[36m(pid=, ip=10.138.0.2)\u001b[0m I0414 20:28:33.667880 3448310 init.cc:78] Remote crash gathering hook installed.\n",
      "\u001b[36m(pid=, ip=10.138.0.2)\u001b[0m I0414 20:28:33.667909 3448310 tpu_runtime_type_flags.cc:91] --tpu_use_tfrt not specified. Using default value: true\n",
      "\u001b[36m(pid=, ip=10.138.0.2)\u001b[0m I0414 20:28:33.674381 3448310 tf_tpu_flags.cc:60] 2a886c8Platform is NOT registered.\n",
      "\u001b[36m(pid=, ip=10.138.0.2)\u001b[0m I0414 20:28:33.674616 3448310 logger.cc:310] Enabling threaded logging for severity WARNING\n",
      "\u001b[36m(pid=, ip=10.138.0.2)\u001b[0m I0414 20:28:33.674737 3448310 mlock.cc:219] mlock()-ed 4096 bytes for BuildID, using 1 syscalls.\n",
      "\u001b[36m(pid=, ip=10.138.0.2)\u001b[0m I0414 20:28:33.767424 3448310 config.cc:256] gRPC experiments enabled: max_pings_wo_data_throttle, monitoring_experiment, pick_first_new, time_caching_in_party, trace_record_callops, work_serializer_dispatch\n",
      "\u001b[36m(pid=, ip=10.138.0.2)\u001b[0m I0414 20:28:33.777000 3448310 init-domain.cc:126] Fiber init: default domain = futex, concurrency = 246, prefix = futex-default\n",
      "\u001b[36m(pid=, ip=10.138.0.2)\u001b[0m I0414 20:28:33.777284 3448310 stackdriver_metric_reporter.cc:69] Starting StackdriverMetricReporter fiber loop with options stackdriver_project_name_or_number = \"\", prepare_client_context = 32-byte object <0A-00 00-00 00-00 00-00 40-D7 1F-FF AD-55 00-00 80-A5 59-6D C7-7F 00-00 58-95 C1-6E C7-7F 00-00>, reporting_interval = 1m, use_borg_stub = false, project_resource_labels = [\"project_id\"], create_time_series = (nil), clock = 0x55adfec13208\n",
      "\u001b[36m(pid=, ip=10.138.0.2)\u001b[0m I0414 20:28:33.828866 3448310 singleton_tpu_states_manager.cc:72] TPU premapped buffer enabled. Size: 4294967296 Threshold: 4294967296\n",
      "\u001b[36m(pid=, ip=10.138.0.2)\u001b[0m I0414 20:28:33.828896 3448310 singleton_tpu_states_manager.cc:95] TpuStatesManager::GetOrCreate(): no tpu system exists. Creating a new tpu system.\n",
      "\u001b[36m(pid=, ip=10.138.0.2)\u001b[0m I0414 20:28:33.832660 3448310 device_util.cc:112] Found 8 TPU v5 lite chips.\n",
      "\u001b[36m(pid=, ip=10.138.0.2)\u001b[0m I0414 20:28:33.832671 3448310 device_util.cc:114] After filtering devices, we have 1 chip(s) available.\n",
      "\u001b[36m(pid=, ip=10.138.0.2)\u001b[0m I0414 20:28:33.832677 3448310 tpu_version_flag.cc:53] Using auto-detected TPU version TPU v5 lite\n",
      "\u001b[36m(pid=, ip=10.138.0.2)\u001b[0m I0414 20:28:33.835885 3448310 device_util.cc:112] Found 8 TPU v5 lite chips.\n",
      "\u001b[36m(pid=, ip=10.138.0.2)\u001b[0m I0414 20:28:33.835891 3448310 device_util.cc:114] After filtering devices, we have 1 chip(s) available.\n",
      "\u001b[36m(pid=, ip=10.138.0.2)\u001b[0m I0414 20:28:33.839012 3448310 device_util.cc:112] Found 8 TPU v5 lite chips.\n",
      "\u001b[36m(pid=, ip=10.138.0.2)\u001b[0m I0414 20:28:33.839018 3448310 device_util.cc:114] After filtering devices, we have 1 chip(s) available.\n",
      "\u001b[36m(pid=, ip=10.138.0.2)\u001b[0m I0414 20:28:33.842078 3448310 device_util.cc:112] Found 8 TPU v5 lite chips.\n",
      "\u001b[36m(pid=, ip=10.138.0.2)\u001b[0m I0414 20:28:33.842083 3448310 device_util.cc:114] After filtering devices, we have 1 chip(s) available.\n",
      "\u001b[36m(pid=, ip=10.138.0.2)\u001b[0m I0414 20:28:33.846972 3449092 device_util.cc:112] Found 8 TPU v5 lite chips.\n",
      "\u001b[36m(pid=, ip=10.138.0.2)\u001b[0m I0414 20:28:33.846999 3449092 device_util.cc:114] After filtering devices, we have 1 chip(s) available.\n",
      "\u001b[36m(pid=, ip=10.138.0.2)\u001b[0m I0414 20:28:33.847015 3449092 flags_util.cc:314] Using 8471 from --2a886c8_slice_builder_worker_port as SliceBuilder worker service port.\n",
      "\u001b[36m(pid=, ip=10.138.0.2)\u001b[0m I0414 20:28:33.850073 3449092 device_util.cc:112] Found 8 TPU v5 lite chips.\n",
      "\u001b[36m(pid=, ip=10.138.0.2)\u001b[0m I0414 20:28:33.850079 3449092 device_util.cc:114] After filtering devices, we have 1 chip(s) available.\n",
      "\u001b[36m(pid=, ip=10.138.0.2)\u001b[0m I0414 20:28:33.850084 3449092 tpu_network_factory.cc:62] tpunetd either not supported or disabled, falling back to Slice Builder\n",
      "\u001b[36m(pid=, ip=10.138.0.2)\u001b[0m I0414 20:28:34.205273 3449094 async_driver.cc:427] [/dev/vfio/0 tpu9:pe1:1] Driver opened.\n",
      "\u001b[36m(pid=, ip=10.138.0.2)\u001b[0m I0414 20:28:34.237762 3449092 slice_builder_helper.cc:98] Current host is used as SliceBuilder master.\n",
      "\u001b[36m(pid=, ip=10.138.0.2)\u001b[0m I0414 20:28:34.238095 3449092 hostname.cc:43] Note: we could not read a GMI proto at '/etc/googlemachineidentity/live/machine_identity.pb'. If this is a prod machine, it is probably broken. If it is a non-prod machine (corp, cloudtop etc), this is ok.\n",
      "\u001b[36m(pid=, ip=10.138.0.2)\u001b[0m I0414 20:28:34.251075 3449092 master.cc:221] Successfully initialized SliceBuilder master session df7ef55591e1c28e with expected topology (1, 1)\n",
      "\u001b[36m(pid=, ip=10.138.0.2)\u001b[0m I0414 20:28:34.251347 3449092 tpu_hal.cc:198] Starting premapped memory manager initialization...\n",
      "\u001b[36m(pid=, ip=10.138.0.2)\u001b[0m I0414 20:28:35.031457 3449092 runtime_metric_service.cc:122] Successfully started Runtime Metric Service on port: 8431\n",
      "\u001b[36m(pid=, ip=10.138.0.2)\u001b[0m I0414 20:28:35.031586 3449092 system.cc:1053] tpu::System initialized, current host id: 0, logical device ids: 0\n",
      "\u001b[36m(pid=, ip=10.138.0.2)\u001b[0m I0414 20:28:35.031616 3448310 tfrt_tpu_system_state.cc:213] CreateTpuSystemState: TPU initialization is successful and it took 1.188456088s\n",
      "\u001b[36m(pid=, ip=10.138.0.2)\u001b[0m I0414 20:28:35.031628 3448310 tfrt_tpu_system_state.cc:217] CreateTpuSystemState: using TPU host premapped buffer of size: 4294967296\n",
      "\u001b[36m(pid=, ip=10.138.0.2)\u001b[0m I0414 20:28:35.031647 3448310 tpu_host_allocator.cc:39] Premapped buffer is using alignment 512\n",
      "\u001b[36m(pid=, ip=10.138.0.2)\u001b[0m I0414 20:28:35.031832 3448310 allocator_stats_reporter.cc:117] Starting AllocatorStats Reporter with reporting interval: 5s\n",
      "\u001b[36m(pid=, ip=10.138.0.2)\u001b[0m I0414 20:28:35.038619 3448310 2a886c8_compiler_base.cc:6104] XLA::TPU running hlo passes for 4 instructions, modules: SyncTensorsGraph.5\n",
      "\u001b[36m(pid=, ip=10.138.0.2)\u001b[0m I0414 20:28:35.038638 3448310 autofdo_agent.cc:203] xla_tpu_autofdo_profile_dir updated to \n",
      "\u001b[36m(pid=, ip=10.138.0.2)\u001b[0m W0414 20:28:35.038639 3448310 autofdo_agent.cc:206] xla_tpu_autofdo_use_remote_repo is overridden to false because xla_tpu_autofdo_profile_dir is not set.\n",
      "\u001b[36m(pid=, ip=10.138.0.2)\u001b[0m Log file created at: 2025/04/14 20:28:35\n",
      "\u001b[36m(pid=, ip=10.138.0.2)\u001b[0m Running on machine: t1v-n-8ed780ed-w-0\n",
      "\u001b[36m(pid=, ip=10.138.0.2)\u001b[0m Binary: Built on Jan 24 2025 17:49:30 (1737769770)\n",
      "\u001b[36m(pid=, ip=10.138.0.2)\u001b[0m Binary: Built at cloud-tpus-runtime-release-tool@lmbco37.prod.google.com:/google/src/cloud/buildrabbit-username/buildrabbit-client/g3     \n",
      "\u001b[36m(pid=, ip=10.138.0.2)\u001b[0m Binary: Built for gcc-4.X.Y-crosstool-v18-llvm-grtev4-k8.k8\n",
      "\u001b[36m(pid=, ip=10.138.0.2)\u001b[0m Log line format: [IWEF]mmdd hh:mm:ss.uuuuuu threadid file:line] msg\n",
      "\u001b[36m(pid=, ip=10.138.0.2)\u001b[0m W0414 20:28:35.038639 3448310 autofdo_agent.cc:206] xla_tpu_autofdo_use_remote_repo is overridden to false because xla_tpu_autofdo_profile_dir is not set.\n"
     ]
    }
   ],
   "source": [
    "import ray\n",
    "import ray_tpu\n",
    "\n",
    "ray.init()"
   ]
  },
  {
   "cell_type": "code",
   "execution_count": 11,
   "id": "27599ce3",
   "metadata": {},
   "outputs": [
    {
     "data": {
      "text/plain": [
       "{'GPU': 1.0,\n",
       " 'accelerator_type:A100': 1.0,\n",
       " 'memory': 399361834190.0,\n",
       " 'CPU': 236.0,\n",
       " 'node:10.128.0.32': 1.0,\n",
       " 'object_store_memory': 171155071794.0,\n",
       " 'node:__internal_head__': 1.0,\n",
       " 'TPU': 8.0,\n",
       " 'yifeit-v5e': 1.0,\n",
       " 'node:10.138.0.2': 1.0,\n",
       " 'accelerator_type:TPU-V5LITEPOD': 1.0,\n",
       " 'TPU-v5litepod-8-head': 1.0}"
      ]
     },
     "execution_count": 11,
     "metadata": {},
     "output_type": "execute_result"
    }
   ],
   "source": [
    "ray.available_resources()"
   ]
  },
  {
   "cell_type": "markdown",
   "id": "591a1a13",
   "metadata": {},
   "source": [
    "### Run some computation"
   ]
  },
  {
   "cell_type": "code",
   "execution_count": 25,
   "id": "541d0286",
   "metadata": {},
   "outputs": [],
   "source": [
    "@ray.remote(num_gpus=1)\n",
    "def run_on_gpu(data):\n",
    "  import torch\n",
    "  return torch.cos(torch.sin(torch.tensor(data).cuda())).cpu().numpy()\n",
    "\n",
    "@ray.remote(\n",
    "    resources={\"TPU\": 1}\n",
    ")\n",
    "def run_on_tpu(data):\n",
    "  import torch\n",
    "  import torch_xla\n",
    "  return torch.cos(torch.sin(torch.tensor(data).to('xla'))).cpu().numpy()"
   ]
  },
  {
   "cell_type": "code",
   "execution_count": 26,
   "id": "2fe9c090",
   "metadata": {},
   "outputs": [],
   "source": [
    "import numpy as np\n",
    "\n",
    "input_data = np.random.rand(1, 224, 224, 3).astype(np.float32) # Example shape\n",
    "input_data_ref = ray.put(input_data) # Send data to cluster object store"
   ]
  },
  {
   "cell_type": "code",
   "execution_count": 27,
   "id": "1c870958",
   "metadata": {},
   "outputs": [],
   "source": [
    "gpu_future = run_on_gpu.remote(input_data_ref)"
   ]
  },
  {
   "cell_type": "code",
   "execution_count": 28,
   "id": "bcdef0ff",
   "metadata": {},
   "outputs": [
    {
     "data": {
      "text/plain": [
       "(1, 224, 224, 3)"
      ]
     },
     "execution_count": 28,
     "metadata": {},
     "output_type": "execute_result"
    }
   ],
   "source": [
    "ray.get(gpu_future).shape"
   ]
  },
  {
   "cell_type": "code",
   "execution_count": 29,
   "id": "dc6c2355",
   "metadata": {},
   "outputs": [],
   "source": [
    "tpu_future = run_on_tpu.remote(input_data_ref)"
   ]
  },
  {
   "cell_type": "code",
   "execution_count": 30,
   "id": "2de5ced6",
   "metadata": {},
   "outputs": [
    {
     "data": {
      "text/plain": [
       "(1, 224, 224, 3)"
      ]
     },
     "execution_count": 30,
     "metadata": {},
     "output_type": "execute_result"
    }
   ],
   "source": [
    "ray.get(tpu_future).shape  # type: ignore"
   ]
  },
  {
   "cell_type": "code",
   "execution_count": 31,
   "id": "ed8cdcaf",
   "metadata": {},
   "outputs": [],
   "source": [
    "import torch\n",
    "\n",
    "torch.testing.assert_close(\n",
    "    ray.get(tpu_future),\n",
    "    ray.get(gpu_future),\n",
    ")"
   ]
  },
  {
   "cell_type": "code",
   "execution_count": 32,
   "id": "c4398f14",
   "metadata": {},
   "outputs": [],
   "source": [
    "ray.shutdown()"
   ]
  },
  {
   "cell_type": "code",
   "execution_count": null,
   "id": "7d5b3a5d",
   "metadata": {},
   "outputs": [],
   "source": []
  }
 ],
 "metadata": {
  "kernelspec": {
   "display_name": ".venv",
   "language": "python",
   "name": "python3"
  },
  "language_info": {
   "codemirror_mode": {
    "name": "ipython",
    "version": 3
   },
   "file_extension": ".py",
   "mimetype": "text/x-python",
   "name": "python",
   "nbconvert_exporter": "python",
   "pygments_lexer": "ipython3",
   "version": "3.10.14"
  }
 },
 "nbformat": 4,
 "nbformat_minor": 5
}
